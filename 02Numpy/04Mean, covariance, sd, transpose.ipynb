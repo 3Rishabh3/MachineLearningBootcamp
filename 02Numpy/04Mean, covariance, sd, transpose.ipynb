{
 "cells": [
  {
   "cell_type": "markdown",
   "id": "3652eb68",
   "metadata": {},
   "source": [
    "#### https://docs.scipy.org/doc/numpy-dev/reference/generated/numpy.cross.html#numpy.cross\n",
    "\n",
    "#### https://docs.scipy.org/doc/numpy-dev/reference/generated/numpy.dot.html#numpy.dot\n",
    "\n",
    "#### https://docs.scipy.org/doc/numpy-dev/reference/generated/numpy.transpose.html#numpy.transpose\n",
    "\n",
    "#### https://docs.scipy.org/doc/numpy-dev/reference/generated/numpy.array_split.html#numpy.array_split\n",
    "\n",
    "#### https://docs.scipy.org/doc/numpy-dev/reference/generated/numpy.mean.html#numpy.mean\n",
    "\n",
    "#### https://docs.scipy.org/doc/numpy-dev/reference/generated/numpy.std.html#numpy.std\n",
    "\n",
    "#### https://docs.scipy.org/doc/numpy-dev/reference/generated/numpy.cov.html#numpy.cov"
   ]
  },
  {
   "cell_type": "code",
   "execution_count": null,
   "id": "371ec26c",
   "metadata": {},
   "outputs": [],
   "source": []
  }
 ],
 "metadata": {
  "kernelspec": {
   "display_name": "Python 3 (ipykernel)",
   "language": "python",
   "name": "python3"
  },
  "language_info": {
   "codemirror_mode": {
    "name": "ipython",
    "version": 3
   },
   "file_extension": ".py",
   "mimetype": "text/x-python",
   "name": "python",
   "nbconvert_exporter": "python",
   "pygments_lexer": "ipython3",
   "version": "3.11.3"
  }
 },
 "nbformat": 4,
 "nbformat_minor": 5
}
