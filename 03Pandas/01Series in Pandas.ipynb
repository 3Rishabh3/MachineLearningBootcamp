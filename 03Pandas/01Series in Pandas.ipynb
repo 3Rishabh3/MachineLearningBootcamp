{
 "cells": [
  {
   "cell_type": "code",
   "execution_count": 1,
   "id": "b33546e1",
   "metadata": {},
   "outputs": [],
   "source": [
    "import numpy as np\n",
    "import pandas as pd"
   ]
  },
  {
   "cell_type": "code",
   "execution_count": 2,
   "id": "887f83fc",
   "metadata": {},
   "outputs": [
    {
     "data": {
      "text/plain": [
       "a    1\n",
       "b    2\n",
       "c    3\n",
       "d    4\n",
       "dtype: int64"
      ]
     },
     "execution_count": 2,
     "metadata": {},
     "output_type": "execute_result"
    }
   ],
   "source": [
    "pd.Series(data=[1,2,3,4], index=['a', 'b', 'c', 'd'])"
   ]
  },
  {
   "cell_type": "code",
   "execution_count": 3,
   "id": "73f2dc84",
   "metadata": {},
   "outputs": [],
   "source": [
    "myD = {'e': 20, 'f': 200, 'g': 2000, 'h': 15}"
   ]
  },
  {
   "cell_type": "code",
   "execution_count": 4,
   "id": "0fdec428",
   "metadata": {},
   "outputs": [
    {
     "data": {
      "text/plain": [
       "{'e': 20, 'f': 200, 'g': 2000, 'h': 15}"
      ]
     },
     "execution_count": 4,
     "metadata": {},
     "output_type": "execute_result"
    }
   ],
   "source": [
    " myD"
   ]
  },
  {
   "cell_type": "code",
   "execution_count": 5,
   "id": "01507c84",
   "metadata": {},
   "outputs": [
    {
     "data": {
      "text/plain": [
       "e      20\n",
       "f     200\n",
       "g    2000\n",
       "h      15\n",
       "dtype: int64"
      ]
     },
     "execution_count": 5,
     "metadata": {},
     "output_type": "execute_result"
    }
   ],
   "source": [
    "pd.Series(myD)"
   ]
  },
  {
   "cell_type": "code",
   "execution_count": 6,
   "id": "04aeea1a",
   "metadata": {},
   "outputs": [],
   "source": [
    "mySeriesOne = pd.Series([1,2,3,4,5], ['a', 'b', 'c', 'd', 'e'])"
   ]
  },
  {
   "cell_type": "code",
   "execution_count": 7,
   "id": "5ca6ee95",
   "metadata": {},
   "outputs": [
    {
     "data": {
      "text/plain": [
       "a    1\n",
       "b    2\n",
       "c    3\n",
       "d    4\n",
       "e    5\n",
       "dtype: int64"
      ]
     },
     "execution_count": 7,
     "metadata": {},
     "output_type": "execute_result"
    }
   ],
   "source": [
    "mySeriesOne"
   ]
  },
  {
   "cell_type": "code",
   "execution_count": 8,
   "id": "3cbd0d7b",
   "metadata": {},
   "outputs": [],
   "source": [
    "mySeriesTwo = pd.Series([1,2,7,4,2], ['a', 'b', 'c', 'f', 'e'])"
   ]
  },
  {
   "cell_type": "code",
   "execution_count": 9,
   "id": "fb4ab830",
   "metadata": {},
   "outputs": [
    {
     "data": {
      "text/plain": [
       "a    1\n",
       "b    2\n",
       "c    7\n",
       "f    4\n",
       "e    2\n",
       "dtype: int64"
      ]
     },
     "execution_count": 9,
     "metadata": {},
     "output_type": "execute_result"
    }
   ],
   "source": [
    "mySeriesTwo"
   ]
  },
  {
   "cell_type": "code",
   "execution_count": 10,
   "id": "c3e36db1",
   "metadata": {},
   "outputs": [
    {
     "data": {
      "text/plain": [
       "a     2.0\n",
       "b     4.0\n",
       "c    10.0\n",
       "d     NaN\n",
       "e     7.0\n",
       "f     NaN\n",
       "dtype: float64"
      ]
     },
     "execution_count": 10,
     "metadata": {},
     "output_type": "execute_result"
    }
   ],
   "source": [
    "mySeriesOne + mySeriesTwo"
   ]
  },
  {
   "cell_type": "code",
   "execution_count": 12,
   "id": "c66cdae9",
   "metadata": {},
   "outputs": [
    {
     "data": {
      "text/plain": [
       "1"
      ]
     },
     "execution_count": 12,
     "metadata": {},
     "output_type": "execute_result"
    }
   ],
   "source": [
    "mySeriesOne['a']"
   ]
  },
  {
   "cell_type": "code",
   "execution_count": null,
   "id": "deb05469",
   "metadata": {},
   "outputs": [],
   "source": []
  }
 ],
 "metadata": {
  "kernelspec": {
   "display_name": "Python 3 (ipykernel)",
   "language": "python",
   "name": "python3"
  },
  "language_info": {
   "codemirror_mode": {
    "name": "ipython",
    "version": 3
   },
   "file_extension": ".py",
   "mimetype": "text/x-python",
   "name": "python",
   "nbconvert_exporter": "python",
   "pygments_lexer": "ipython3",
   "version": "3.11.3"
  }
 },
 "nbformat": 4,
 "nbformat_minor": 5
}
