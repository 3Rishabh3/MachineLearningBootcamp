{
 "cells": [
  {
   "cell_type": "markdown",
   "id": "8c93f977",
   "metadata": {},
   "source": [
    "# Intermediate stuff with Numpy"
   ]
  },
  {
   "cell_type": "code",
   "execution_count": 1,
   "id": "f42f8f0a",
   "metadata": {},
   "outputs": [],
   "source": [
    "import numpy as np"
   ]
  },
  {
   "cell_type": "code",
   "execution_count": 2,
   "id": "ee886c4a",
   "metadata": {},
   "outputs": [],
   "source": [
    "myArray = np.arange(10, 21)"
   ]
  },
  {
   "cell_type": "code",
   "execution_count": 3,
   "id": "11aad5b9",
   "metadata": {},
   "outputs": [
    {
     "data": {
      "text/plain": [
       "array([10, 11, 12, 13, 14, 15, 16, 17, 18, 19, 20])"
      ]
     },
     "execution_count": 3,
     "metadata": {},
     "output_type": "execute_result"
    }
   ],
   "source": [
    "myArray"
   ]
  },
  {
   "cell_type": "code",
   "execution_count": 4,
   "id": "a6206b99",
   "metadata": {},
   "outputs": [
    {
     "data": {
      "text/plain": [
       "10"
      ]
     },
     "execution_count": 4,
     "metadata": {},
     "output_type": "execute_result"
    }
   ],
   "source": [
    "myArray[0]"
   ]
  },
  {
   "cell_type": "markdown",
   "id": "6c643123",
   "metadata": {},
   "source": [
    "## Slice array"
   ]
  },
  {
   "cell_type": "code",
   "execution_count": 5,
   "id": "063fa16c",
   "metadata": {},
   "outputs": [
    {
     "data": {
      "text/plain": [
       "array([11, 12, 13])"
      ]
     },
     "execution_count": 5,
     "metadata": {},
     "output_type": "execute_result"
    }
   ],
   "source": [
    "myArray[1:4]"
   ]
  },
  {
   "cell_type": "code",
   "execution_count": 6,
   "id": "d05dbce4",
   "metadata": {},
   "outputs": [
    {
     "data": {
      "text/plain": [
       "array([10, 11, 12, 13])"
      ]
     },
     "execution_count": 6,
     "metadata": {},
     "output_type": "execute_result"
    }
   ],
   "source": [
    "myArray[:4]"
   ]
  },
  {
   "cell_type": "code",
   "execution_count": 7,
   "id": "ac162f0d",
   "metadata": {},
   "outputs": [
    {
     "data": {
      "text/plain": [
       "array([14, 15, 16, 17, 18, 19, 20])"
      ]
     },
     "execution_count": 7,
     "metadata": {},
     "output_type": "execute_result"
    }
   ],
   "source": [
    "myArray[4:]"
   ]
  },
  {
   "cell_type": "markdown",
   "id": "b49662b7",
   "metadata": {},
   "source": [
    "### vvimp: how assign and copy works"
   ]
  },
  {
   "cell_type": "code",
   "execution_count": 8,
   "id": "e6436020",
   "metadata": {},
   "outputs": [],
   "source": [
    "partArray = myArray[:4]"
   ]
  },
  {
   "cell_type": "code",
   "execution_count": 9,
   "id": "4885469d",
   "metadata": {},
   "outputs": [
    {
     "data": {
      "text/plain": [
       "array([10, 11, 12, 13])"
      ]
     },
     "execution_count": 9,
     "metadata": {},
     "output_type": "execute_result"
    }
   ],
   "source": [
    "partArray"
   ]
  },
  {
   "cell_type": "code",
   "execution_count": 10,
   "id": "7d7f39ce",
   "metadata": {},
   "outputs": [],
   "source": [
    "partArray[:] = 50"
   ]
  },
  {
   "cell_type": "code",
   "execution_count": 11,
   "id": "eefe1769",
   "metadata": {},
   "outputs": [
    {
     "data": {
      "text/plain": [
       "array([50, 50, 50, 50])"
      ]
     },
     "execution_count": 11,
     "metadata": {},
     "output_type": "execute_result"
    }
   ],
   "source": [
    "partArray"
   ]
  },
  {
   "cell_type": "code",
   "execution_count": 12,
   "id": "ea315ca0",
   "metadata": {},
   "outputs": [
    {
     "data": {
      "text/plain": [
       "array([50, 50, 50, 50, 14, 15, 16, 17, 18, 19, 20])"
      ]
     },
     "execution_count": 12,
     "metadata": {},
     "output_type": "execute_result"
    }
   ],
   "source": [
    "myArray"
   ]
  },
  {
   "cell_type": "code",
   "execution_count": 13,
   "id": "1d61f92a",
   "metadata": {},
   "outputs": [],
   "source": [
    "copyArray = myArray.copy()"
   ]
  },
  {
   "cell_type": "code",
   "execution_count": 14,
   "id": "75f66bdf",
   "metadata": {},
   "outputs": [
    {
     "data": {
      "text/plain": [
       "array([50, 50, 50, 50, 14, 15, 16, 17, 18, 19, 20])"
      ]
     },
     "execution_count": 14,
     "metadata": {},
     "output_type": "execute_result"
    }
   ],
   "source": [
    "copyArray"
   ]
  },
  {
   "cell_type": "code",
   "execution_count": 15,
   "id": "729fe686",
   "metadata": {},
   "outputs": [],
   "source": [
    "copyArray[:] = 200"
   ]
  },
  {
   "cell_type": "code",
   "execution_count": 16,
   "id": "a8487d79",
   "metadata": {},
   "outputs": [
    {
     "data": {
      "text/plain": [
       "array([200, 200, 200, 200, 200, 200, 200, 200, 200, 200, 200])"
      ]
     },
     "execution_count": 16,
     "metadata": {},
     "output_type": "execute_result"
    }
   ],
   "source": [
    "copyArray"
   ]
  },
  {
   "cell_type": "code",
   "execution_count": 17,
   "id": "46fccde0",
   "metadata": {},
   "outputs": [
    {
     "data": {
      "text/plain": [
       "array([50, 50, 50, 50, 14, 15, 16, 17, 18, 19, 20])"
      ]
     },
     "execution_count": 17,
     "metadata": {},
     "output_type": "execute_result"
    }
   ],
   "source": [
    "myArray"
   ]
  },
  {
   "cell_type": "markdown",
   "id": "d9218962",
   "metadata": {},
   "source": [
    "# Play with 2-D Array"
   ]
  },
  {
   "cell_type": "code",
   "execution_count": 19,
   "id": "50a6e461",
   "metadata": {},
   "outputs": [],
   "source": [
    "myTwoDArray = np.array([[1,2,3], [4,5,6], [7,8,9]])"
   ]
  },
  {
   "cell_type": "code",
   "execution_count": 20,
   "id": "6e43055a",
   "metadata": {},
   "outputs": [
    {
     "data": {
      "text/plain": [
       "array([[1, 2, 3],\n",
       "       [4, 5, 6],\n",
       "       [7, 8, 9]])"
      ]
     },
     "execution_count": 20,
     "metadata": {},
     "output_type": "execute_result"
    }
   ],
   "source": [
    "myTwoDArray"
   ]
  },
  {
   "cell_type": "code",
   "execution_count": 21,
   "id": "3a4c8412",
   "metadata": {},
   "outputs": [
    {
     "data": {
      "text/plain": [
       "8"
      ]
     },
     "execution_count": 21,
     "metadata": {},
     "output_type": "execute_result"
    }
   ],
   "source": [
    "myTwoDArray[2][1]"
   ]
  },
  {
   "cell_type": "code",
   "execution_count": 22,
   "id": "0bda8ce6",
   "metadata": {},
   "outputs": [
    {
     "data": {
      "text/plain": [
       "8"
      ]
     },
     "execution_count": 22,
     "metadata": {},
     "output_type": "execute_result"
    }
   ],
   "source": [
    "myTwoDArray[2,1]"
   ]
  },
  {
   "cell_type": "code",
   "execution_count": 23,
   "id": "516e7672",
   "metadata": {},
   "outputs": [
    {
     "data": {
      "text/plain": [
       "array([7, 8, 9])"
      ]
     },
     "execution_count": 23,
     "metadata": {},
     "output_type": "execute_result"
    }
   ],
   "source": [
    "myTwoDArray[2]"
   ]
  },
  {
   "cell_type": "code",
   "execution_count": 26,
   "id": "b4c51e00",
   "metadata": {},
   "outputs": [
    {
     "data": {
      "text/plain": [
       "array([[2, 3],\n",
       "       [5, 6]])"
      ]
     },
     "execution_count": 26,
     "metadata": {},
     "output_type": "execute_result"
    }
   ],
   "source": [
    "myTwoDArray[:2, 1:]"
   ]
  },
  {
   "cell_type": "code",
   "execution_count": null,
   "id": "554c89e4",
   "metadata": {},
   "outputs": [],
   "source": []
  }
 ],
 "metadata": {
  "kernelspec": {
   "display_name": "Python 3 (ipykernel)",
   "language": "python",
   "name": "python3"
  },
  "language_info": {
   "codemirror_mode": {
    "name": "ipython",
    "version": 3
   },
   "file_extension": ".py",
   "mimetype": "text/x-python",
   "name": "python",
   "nbconvert_exporter": "python",
   "pygments_lexer": "ipython3",
   "version": "3.11.3"
  }
 },
 "nbformat": 4,
 "nbformat_minor": 5
}
